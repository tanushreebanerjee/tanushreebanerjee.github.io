{
 "cells": [
  {
   "cell_type": "code",
   "execution_count": 3,
   "metadata": {},
   "outputs": [
    {
     "name": "stderr",
     "output_type": "stream",
     "text": [
      "/var/folders/db/rmz7fksj6jgc90cyny2y5jg40000gn/T/ipykernel_56539/2404882195.py:27: DeprecationWarning: ANTIALIAS is deprecated and will be removed in Pillow 10 (2023-07-01). Use Resampling.LANCZOS instead.\n",
      "  resized_img = img.resize((new_width, new_height), Image.ANTIALIAS)\n"
     ]
    }
   ],
   "source": [
    "from PIL import Image\n",
    "import os\n",
    "\n",
    "input_folder = 'images'\n",
    "output_folder = 'tn'\n",
    "new_width = 160  # Set the desired width\n",
    "\n",
    "# Create the output folder if it doesn't exist\n",
    "os.makedirs(output_folder, exist_ok=True)\n",
    "\n",
    "# Loop through all files in the input folder\n",
    "for filename in os.listdir(input_folder):\n",
    "    input_path = os.path.join(input_folder, filename)\n",
    "    output_path = os.path.join(output_folder, filename)\n",
    "    \n",
    "    # Open the image\n",
    "    with Image.open(input_path) as img:\n",
    "        # Convert image to RGB mode if it's RGBA\n",
    "        if img.mode == 'RGBA':\n",
    "            img = img.convert('RGB')\n",
    "            \n",
    "        # Calculate the new height while maintaining aspect ratio\n",
    "        width_percent = (new_width / float(img.size[0]))\n",
    "        new_height = int((float(img.size[1]) * float(width_percent)))\n",
    "        \n",
    "        # Resize the image\n",
    "        resized_img = img.resize((new_width, new_height), Image.ANTIALIAS)\n",
    "        \n",
    "        # Save the resized image\n",
    "        resized_img.save(output_path)\n"
   ]
  }
 ],
 "metadata": {
  "kernelspec": {
   "display_name": "InverseNeuralRendering",
   "language": "python",
   "name": "python3"
  },
  "language_info": {
   "codemirror_mode": {
    "name": "ipython",
    "version": 3
   },
   "file_extension": ".py",
   "mimetype": "text/x-python",
   "name": "python",
   "nbconvert_exporter": "python",
   "pygments_lexer": "ipython3",
   "version": "3.8.16"
  }
 },
 "nbformat": 4,
 "nbformat_minor": 2
}
